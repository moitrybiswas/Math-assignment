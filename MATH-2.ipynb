{
 "cells": [
  {
   "cell_type": "code",
   "execution_count": 1,
   "metadata": {},
   "outputs": [
    {
     "name": "stdout",
     "output_type": "stream",
     "text": [
      "Enter word:moitry\n",
      "Enter another word:maya\n",
      "the words have 1 matches\n"
     ]
    }
   ],
   "source": [
    "##Q.6 Write a function called matches that takes two strings as arguments and returns how many matches there are between the strings. A match is where the two strings have the same character at the same index. For instance, ' python ' and ' path ' match in the first, third, and fourth characters, so the function should return 3.\n",
    "\n",
    "def matches(g,h):\n",
    "    n_1=len(g)\n",
    "    n_2=len(h)\n",
    "    res=0\n",
    "    x=0\n",
    "    if(n_1<n_2):\n",
    "        while(x<n_1):\n",
    "            if(g[x]==h[x]):\n",
    "                res=res+1\n",
    "            x=x+1\n",
    "    else:\n",
    "        while(x<n_2):\n",
    "            if(g[x]==h[x]):\n",
    "                res=res+1\n",
    "            x=x+1\n",
    "    return res\n",
    "a=input(\"Enter word:\")\n",
    "b=input('Enter another word:')\n",
    "c=matches(a,b)\n",
    "print('the words have',c,'matches')\n"
   ]
  },
  {
   "cell_type": "code",
   "execution_count": 2,
   "metadata": {},
   "outputs": [
    {
     "name": "stdout",
     "output_type": "stream",
     "text": [
      "Enetr a Number:24\n",
      "Prime Numbers upto 24 \n",
      " [2, 3, 5, 7, 11, 13, 17, 19, 23]\n"
     ]
    }
   ],
   "source": [
    "##Q.7 Write a function called primes that is given a number n and returns a list of the first n primes. Let the default value of n be 100.\n",
    "def Prime(n):\n",
    "    list_index=0\n",
    "    A=[]\n",
    "    x=2\n",
    "    while x<=n:\n",
    "        is_prime=True\n",
    "        y=2\n",
    "        while is_prime==True and y<x:\n",
    "            if x%y==0:\n",
    "                is_prime=False\n",
    "            y=y+1\n",
    "        if is_prime==True:\n",
    "            A.insert(list_index,x)\n",
    "            list_index=list_index+1\n",
    "        x=x+1\n",
    "    return A\n",
    "z=int(input('Enetr a Number:'))\n",
    "prime_list=Prime(z)\n",
    "print('Prime Numbers upto',z,'\\n',prime_list)\n"
   ]
  },
  {
   "cell_type": "code",
   "execution_count": 5,
   "metadata": {},
   "outputs": [
    {
     "name": "stdout",
     "output_type": "stream",
     "text": [
      "Enter a String: moiry\n",
      "Enter a Character: m\n",
      "The position's of character m in the string\n",
      " [0]\n"
     ]
    }
   ],
   "source": [
    "##Q.8 Recall that if s is a string, then s.find( ' a ' ) will find the location of the first a in s . The problem is that it does not find the location of every a. Write a function called findall that given a string and a single character, returns a list containing all of the locations of that character in the string. It should return an empty list if there are no occurrences of the character in the string.\n",
    "def find_All(s,ch):\n",
    "    A=[]\n",
    "    list_index=0\n",
    "    x=0\n",
    "    for c in s:\n",
    "        if c==ch:\n",
    "            A.insert(list_index,x)\n",
    "            list_index=list_index+1\n",
    "        x=x+1\n",
    "    return A\n",
    "s=input('Enter a String: ')\n",
    "ch=input('Enter a Character: ')\n",
    "res_list=find_All(s,ch)\n",
    "print(\"The position's of character\",ch,'in the string\\n',res_list)\n"
   ]
  }
 ],
 "metadata": {
  "kernelspec": {
   "display_name": "Python 3",
   "language": "python",
   "name": "python3"
  },
  "language_info": {
   "codemirror_mode": {
    "name": "ipython",
    "version": 3
   },
   "file_extension": ".py",
   "mimetype": "text/x-python",
   "name": "python",
   "nbconvert_exporter": "python",
   "pygments_lexer": "ipython3",
   "version": "3.7.1"
  }
 },
 "nbformat": 4,
 "nbformat_minor": 2
}
