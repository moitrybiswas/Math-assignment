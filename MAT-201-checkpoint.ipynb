{
 "cells": [
  {
   "cell_type": "code",
   "execution_count": 1,
   "metadata": {},
   "outputs": [
    {
     "name": "stdout",
     "output_type": "stream",
     "text": [
      "Enter Height: 3\n",
      "Enter Width: 2\n",
      "Output Rectangle \n",
      "* * \n",
      "* * \n",
      "* * \n"
     ]
    }
   ],
   "source": [
    "##Problem.1) Write a function called rectangle that takes two integers m and n as arguments and prints out an m × n box consisting of asterisks.\n",
    "\n",
    "def rectangle(m,n):\n",
    "    for i in range(m):\n",
    "        for j in range(n):\n",
    "            print(end='* ')\n",
    "        print()\n",
    "h=int(input('Enter Height: ')) #takng input \n",
    "w=int(input('Enter Width: ')) \n",
    "print('Output Rectangle ') # Printing output\n",
    "rectangle(h,w)"
   ]
  },
  {
   "cell_type": "code",
   "execution_count": 3,
   "metadata": {},
   "outputs": [
    {
     "name": "stdout",
     "output_type": "stream",
     "text": [
      "How many lines do you want?3\n",
      "Enter your text:ashar jaaaa\n",
      "Enter your text:mitu\n",
      "Enter your text:chagol\n",
      "['ashar jaaaa!', 'mitu!', 'chagol!']\n"
     ]
    }
   ],
   "source": [
    "##Problem.2) Write a function called add_excitement that takes a list of strings and adds an exclamation point ( ! ) to the end of each string in the list. The program should modify the original list and not return anything.\n",
    "\n",
    "def Add_Excitment(my_list):\n",
    "    i=0\n",
    "    while i<len(my_list):\n",
    "        my_list[i]=my_list[i]+'!'\n",
    "        i=i+1\n",
    "a=input('How many lines do you want?')\n",
    "a=int(a)\n",
    "ok_list=['s'] * a\n",
    "j=0\n",
    "while j<len(ok_list):\n",
    "    ok_list[j]=input('Enter your text:')\n",
    "    j=j+1\n",
    "Add_Excitment(ok_list)\n",
    "print(ok_list)"
   ]
  },
  {
   "cell_type": "code",
   "execution_count": 5,
   "metadata": {},
   "outputs": [
    {
     "name": "stdout",
     "output_type": "stream",
     "text": [
      "How many lines do you want?2\n",
      "Enter your text:m\n",
      "Enter your text:h\n",
      "Before Calling The Function\n",
      "Input List : ['m', 'h']\n",
      "After Calling The Function\n",
      "Input List:  ['m', 'h']\n",
      "New List:  ['m!', 'h!']\n"
     ]
    }
   ],
   "source": [
    "##3 Write the same function except that it should not modify the original list and should instead return a new list.\n",
    "\n",
    "def Add_Excitment(my_list):\n",
    "    new_list=[]\n",
    "    i=0\n",
    "    while i<len(my_list):\n",
    "        new_list.insert(i,my_list[i]+'!')\n",
    "        i=i+1\n",
    "    return new_list\n",
    "n=input('How many lines do you want?') ##taking input for line numbers \n",
    "n=int(n)\n",
    "ok_list=['s'] * n\n",
    "j=0\n",
    "while j<len(ok_list): ##useing while loop\n",
    "    ok_list[j]=input('Enter your text:')\n",
    "    j=j+1\n",
    "print('Before Calling The Function\\nInput List :',ok_list)\n",
    "res_list=Add_Excitment(ok_list)\n",
    "print('After Calling The Function\\nInput List: ',ok_list)\n",
    "print('New List: ',res_list)"
   ]
  },
  {
   "cell_type": "code",
   "execution_count": 7,
   "metadata": {},
   "outputs": [
    {
     "name": "stdout",
     "output_type": "stream",
     "text": [
      "Enter Number3456\n",
      "Digital Root of 3456 is 9\n"
     ]
    }
   ],
   "source": [
    "##4. The digital root of a number n is obtained as follows: Add up the digits n to get a new number. Add up the digits of that to get another new number. Keep doing this until you get a number that has only one digit. That number is the digital root. For example, if n = 45893 , we add up the digits to get 4 + 5 + 8 + 9 + 3 = 29 . We then add up the digits of 29 to get 2 + 9 = 11 . We then add up the digits of 11 to get 1 + 1 = 2 . Since 2 has only one digit, 2 is our digital root. Write a function that returns the digital root of an integer n . [Note: there is a shortcut, where the digital root is equal to n mod 9, but do not use that here.]\n",
    "\n",
    "def Sum(n): ##afunion of integer n\n",
    "    sum=0\n",
    "    for i in n:\n",
    "        sum=sum+int(i)\n",
    "    return sum\n",
    "def Digital_Root(num):\n",
    "    x=Sum(num)\n",
    "    while x>9:\n",
    "        y=str(x)\n",
    "        x=Sum(y)\n",
    "    return x\n",
    "m=input('Enter Number')\n",
    "a=Digital_Root(m)\n",
    "print('Digital Root of',m,'is',a)"
   ]
  },
  {
   "cell_type": "code",
   "execution_count": 9,
   "metadata": {},
   "outputs": [
    {
     "name": "stdout",
     "output_type": "stream",
     "text": [
      "Enter A Number: 3\n",
      "The Random Value of 3 digit is : 712\n"
     ]
    }
   ],
   "source": [
    "##5. Write a function that takes an integer n and returns a random integer with exactly n digits. For instance, if n is 3, then 125 and 593 would be valid return values, but 093 would not because that is really 93, which is a two-digit number.\n",
    "\n",
    "def Random_Value(num):\n",
    "    x=int(num)   \n",
    "    i=1\n",
    "    low='1'\n",
    "    while i<x:\n",
    "        low=low+'0'\n",
    "        i=i+1\n",
    "        \n",
    "    high=low+'0'\n",
    "    low=int(low)\n",
    "    high=int(high)-1\n",
    "    \n",
    "    import random\n",
    "    z=random.randint(low,high)\n",
    "    return z\n",
    "\n",
    "a=input('Enter A Number: ')\n",
    "s=Random_Value(a)\n",
    "print('The Random Value of',a,'digit is :',s)"
   ]
  },
  {
   "cell_type": "code",
   "execution_count": null,
   "metadata": {},
   "outputs": [],
   "source": []
  }
 ],
 "metadata": {
  "kernelspec": {
   "display_name": "Python 3",
   "language": "python",
   "name": "python3"
  },
  "language_info": {
   "codemirror_mode": {
    "name": "ipython",
    "version": 3
   },
   "file_extension": ".py",
   "mimetype": "text/x-python",
   "name": "python",
   "nbconvert_exporter": "python",
   "pygments_lexer": "ipython3",
   "version": "3.7.1"
  }
 },
 "nbformat": 4,
 "nbformat_minor": 2
}
